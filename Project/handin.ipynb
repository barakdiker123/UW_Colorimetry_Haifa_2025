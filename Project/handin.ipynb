{
 "cells": [
  {
   "cell_type": "markdown",
   "id": "4265b0c9-4263-471f-9765-47e800fa5e21",
   "metadata": {},
   "source": [
    "# Convert DNG to TIFF file type "
   ]
  },
  {
   "cell_type": "markdown",
   "id": "d83b5e4e-5e38-4907-b1ee-3dd10fb696dc",
   "metadata": {},
   "source": [
    "## Doesn't Work ! "
   ]
  },
  {
   "cell_type": "code",
   "execution_count": 17,
   "id": "f0322490-f20b-452e-90a9-658486c9e59a",
   "metadata": {},
   "outputs": [
    {
     "name": "stdout",
     "output_type": "stream",
     "text": [
      "Converted ./barak_eilat/GOPR0831.dng to ./barak_eilat/GOPR0831.tiff\n"
     ]
    }
   ],
   "source": [
    "import rawpy\n",
    "import imageio\n",
    "import numpy as np\n",
    "\n",
    "def dng_to_tiff(input_dng: str, output_tiff: str):\n",
    "    # Open the DNG file using rawpy\n",
    "    with rawpy.imread(input_dng) as raw:\n",
    "        # Get the raw image data as a numpy array\n",
    "        raw_image = raw.raw_image_visible.astype(np.float32)\n",
    "        \n",
    "        # Normalize the image to range 0-1\n",
    "        raw_image /= np.max(raw_image)\n",
    "        \n",
    "        # Scale to 16-bit integer values (0-65535)\n",
    "        raw_image = (raw_image * 65535).astype(np.uint16)\n",
    "        \n",
    "        # Save as TIFF\n",
    "        imageio.imwrite(output_tiff, raw_image, format='TIFF')\n",
    "        \n",
    "    print(f'Converted {input_dng} to {output_tiff}')\n",
    "\n",
    "# Example usage\n",
    "# dng_to_tiff('input.dng', 'output.tiff')\n",
    "#dng_to_tiff('./barak_eilat/DSC01590.dng', './barak_eilat/DSC01590.tiff')\n",
    "# GOPR0831.dng\n",
    "dng_to_tiff('./barak_eilat/GOPR0831.dng', './barak_eilat/GOPR0831.tiff')"
   ]
  },
  {
   "cell_type": "code",
   "execution_count": 14,
   "id": "a7f3f086-ea68-40ba-8eeb-8dafba2ca518",
   "metadata": {},
   "outputs": [
    {
     "name": "stdout",
     "output_type": "stream",
     "text": [
      "Validating \"./barak_eilat/DSC01590.dng\"...\n",
      "Validation complete\n",
      "Validating \"-tiff\"...\n",
      "Validating \"./barak_eilat/DSC01590_empty.tif\"...\n",
      "\n",
      "*** Error: Unsupported Compression (SubIFD 3) ***\n",
      "*** Error: Unsupported Compression (SubIFD 4) ***\n",
      "*** Error: Unsupported Compression (SubIFD 5) ***\n",
      "Raw image read time: 0.044 sec\n",
      "FindNewRawImageDigest time: 0.279 sec\n",
      "*** Error: NewRawImageDigest does not match raw image ***\n",
      "Linearization time: 0.024 sec\n",
      "WarpRectilinear time: 3.775 sec\n",
      "Interpolate time: 3.775 sec\n",
      "*** Error: Unable to open file (-tiff) ***\n",
      "*** Error: Unable to open file (./barak_eilat/DSC01590_empty.tif) ***\n",
      "\n",
      "Error converting ./barak_eilat/DSC01590.dng to ./barak_eilat/DSC01590_empty.tif\n"
     ]
    }
   ],
   "source": [
    "import subprocess\n",
    "import os\n",
    "\n",
    "def dng_to_tiff(input_dng: str, output_tiff: str, dng_validate_path: str):\n",
    "    # Ensure the DNG Validate executable exists\n",
    "    if not os.path.exists(dng_validate_path):\n",
    "        raise FileNotFoundError(f'DNG Validate executable not found at {dng_validate_path}')\n",
    "    \n",
    "    # Run dng_validate.exe to convert DNG to TIFF\n",
    "    command = [dng_validate_path, input_dng, '-tiff', output_tiff]\n",
    "    result = subprocess.run(command, capture_output=True, text=True)\n",
    "    \n",
    "    # Print the output from dng_validate\n",
    "    print(result.stdout)\n",
    "    print(result.stderr)\n",
    "    \n",
    "    if result.returncode == 0:\n",
    "        print(f'Converted {input_dng} to {output_tiff} successfully.')\n",
    "    else:\n",
    "        print(f'Error converting {input_dng} to {output_tiff}')\n",
    "\n",
    "dng_to_tiff('./barak_eilat/DSC01590.dng', './barak_eilat/DSC01590_empty.tif', '/Users/barakdiker/Documents/marinetech/underwater_colometry/UW_Colorimetry_Haifa_2025/Lab1/ForMacUsers/dng_validate.exe')\n"
   ]
  },
  {
   "cell_type": "code",
   "execution_count": null,
   "id": "1bc083be-a5c5-445d-83c0-e4a5887e5cc6",
   "metadata": {},
   "outputs": [],
   "source": []
  },
  {
   "cell_type": "code",
   "execution_count": 10,
   "id": "17dca5b2-7ec4-4145-a0e1-32647f5bafd1",
   "metadata": {},
   "outputs": [
    {
     "name": "stdout",
     "output_type": "stream",
     "text": [
      "Converted ./barak_eilat/DSC01590.dng to ./barak_eilat/DSC01590.tif successfully!\n"
     ]
    }
   ],
   "source": [
    "from PIL import Image\n",
    "import rawpy\n",
    "import numpy as np\n",
    "\n",
    "# טעינת התמונה\n",
    "dng_path = \"./barak_eilat/DSC01590.dng\"\n",
    "with rawpy.imread(dng_path) as raw:\n",
    "    rgb_image = raw.postprocess()\n",
    "\n",
    "# המרה ל-Image ושמירה בפורמט TIFF\n",
    "tiff_path = './barak_eilat/DSC01590.tif'\n",
    "image = Image.fromarray(rgb_image)\n",
    "image.save(tiff_path)\n",
    "\n",
    "print(f\"Converted {dng_path} to {tiff_path} successfully!\")"
   ]
  },
  {
   "cell_type": "code",
   "execution_count": 15,
   "id": "93ce36c6-82aa-4fb0-813e-e75ea6271994",
   "metadata": {},
   "outputs": [
    {
     "name": "stdout",
     "output_type": "stream",
     "text": [
      "✅ Successfully converted ./barak_eilat/DSC01590.dng → ./barak_eilat/DSC01590_new.tif\n"
     ]
    }
   ],
   "source": [
    "import os\n",
    "import subprocess\n",
    "\n",
    "def write_text_file(folder, filename, content):\n",
    "    \"\"\"Write content to a text file in the specified folder.\"\"\"\n",
    "    file_path = os.path.join(folder, f\"{filename}.txt\")\n",
    "    with open(file_path, 'w') as f:\n",
    "        content = \" \".join(map(str, content)) if isinstance(content, list) else str(content)\n",
    "        f.write(content)\n",
    "\n",
    "def dng_to_tiff(dng_file, tiff_file):\n",
    "    \"\"\"Convert a DNG file to TIFF format using dng_validate.exe.\"\"\"\n",
    "    stage = 4\n",
    "    base_folder = \"/Users/barakdiker/Documents/marinetech/underwater_colometry/UW_Colorimetry_Haifa_2025/Lab1/ForMacUsers/\"\n",
    "\n",
    "    # Ensure required settings for linear TIFF conversion\n",
    "    settings = {\n",
    "        \"wbAndGainSettings\": [1, 0, 0, 0],\n",
    "        \"rwSettings\": 0,\n",
    "        \"stageSettings\": stage,\n",
    "        \"cam_settings\": 0,\n",
    "        \"lastStage\": stage\n",
    "    }\n",
    "\n",
    "    for filename, content in settings.items():\n",
    "        write_text_file(base_folder, filename, content)\n",
    "\n",
    "    # Construct the command\n",
    "    dng_validate_path = os.path.join(base_folder, 'dng_validate.exe')\n",
    "    cmd = [dng_validate_path, '-16', '-3', tiff_file, dng_file]\n",
    "\n",
    "    # Execute conversion\n",
    "    result = subprocess.run(cmd, capture_output=True, text=True)\n",
    "\n",
    "    if result.returncode != 0:\n",
    "        print(f\"❌ Error processing {dng_file}:\\n{result.stderr}\")\n",
    "    else:\n",
    "        print(f\"✅ Successfully converted {dng_file} → {tiff_file}\")\n",
    "\n",
    "# Example conversions\n",
    "dng_path = \"./barak_eilat/DSC01590.dng\"\n",
    "tiff_path = './barak_eilat/DSC01590_new.tif'\n",
    "dng_to_tiff(dng_path, tiff_path)\n",
    "#dng_to_"
   ]
  },
  {
   "cell_type": "code",
   "execution_count": 20,
   "id": "fe5d308d-9b6f-4f1b-aa2d-9893390934f3",
   "metadata": {},
   "outputs": [
    {
     "name": "stdout",
     "output_type": "stream",
     "text": [
      "Converted ./barak_florida/GOPR0831.dng to ./barak_florida/GOPR0831_new.tif\n"
     ]
    }
   ],
   "source": [
    "dng_path = \"./barak_florida/GOPR0831.dng\"\n",
    "tiff_path = './barak_florida/GOPR0831_new.tif'\n",
    "dng_to_tiff(dng_path, tiff_path)"
   ]
  },
  {
   "cell_type": "code",
   "execution_count": 21,
   "id": "d202ffe1-e5ab-4f10-8414-eb4f0d0b712a",
   "metadata": {},
   "outputs": [
    {
     "name": "stdout",
     "output_type": "stream",
     "text": [
      "[[ 1. nan  3.]\n",
      " [ 4.  5. nan]\n",
      " [nan  7.  8.]]\n"
     ]
    }
   ],
   "source": [
    "import numpy as np\n",
    "\n",
    "# Example 2D array\n",
    "arr = np.array([[1, 0, 3], \n",
    "                [4, 5, 0], \n",
    "                [0, 7, 8]], dtype=float)  # Ensure dtype is float to store NaN\n",
    "\n",
    "# Replace 0 with NaN\n",
    "arr[arr == 0] = np.nan\n",
    "\n",
    "print(arr)"
   ]
  },
  {
   "cell_type": "code",
   "execution_count": 25,
   "id": "b38a7dc6-a625-455a-b4e3-d7ca94c82670",
   "metadata": {},
   "outputs": [
    {
     "data": {
      "text/plain": [
       "0    4\n",
       "1    4\n",
       "2    4\n",
       "3    4\n",
       "dtype: int64"
      ]
     },
     "execution_count": 25,
     "metadata": {},
     "output_type": "execute_result"
    }
   ],
   "source": [
    "import pandas as pd \n",
    "pd.Series([1,2,3,4]) +pd.Series([3,2,1,0])"
   ]
  },
  {
   "cell_type": "code",
   "execution_count": null,
   "id": "a0163788-2d83-4884-98f3-d859196a6c51",
   "metadata": {},
   "outputs": [],
   "source": []
  }
 ],
 "metadata": {
  "kernelspec": {
   "display_name": "Python 3 (ipykernel)",
   "language": "python",
   "name": "python3"
  },
  "language_info": {
   "codemirror_mode": {
    "name": "ipython",
    "version": 3
   },
   "file_extension": ".py",
   "mimetype": "text/x-python",
   "name": "python",
   "nbconvert_exporter": "python",
   "pygments_lexer": "ipython3",
   "version": "3.12.9"
  }
 },
 "nbformat": 4,
 "nbformat_minor": 5
}
